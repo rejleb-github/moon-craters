{
 "cells": [
  {
   "cell_type": "code",
   "execution_count": 59,
   "metadata": {},
   "outputs": [],
   "source": [
    "import glob\n",
    "import cv2\n",
    "import os\n",
    "import glob\n",
    "import numpy as np\n",
    "import pandas as pd\n",
    "\n",
    "import matplotlib.pyplot as plt\n",
    "%matplotlib inline \n",
    "\n",
    "import utils.make_density_map_charles as mdm\n",
    "\n",
    "#https://stackoverflow.com/questions/13070075/how-to-detect-circles-accurately"
   ]
  },
  {
   "cell_type": "code",
   "execution_count": 2,
   "metadata": {
    "collapsed": true
   },
   "outputs": [],
   "source": [
    "ext = \"rings\"    #rings or circlerings\n",
    "train_data=np.load('training_set/train_data_%s_sample.npy'%ext).astype('float32')\n",
    "train_target=np.load('training_set/train_target_%s_sample.npy'%ext).astype('float32')\n",
    "test_data=np.load('test_set/test_data_%s_sample.npy'%ext).astype('float32')\n",
    "test_target=np.load('test_set/test_target_%s_sample.npy'%ext).astype('float32')"
   ]
  },
  {
   "cell_type": "code",
   "execution_count": 49,
   "metadata": {},
   "outputs": [
    {
     "name": "stdout",
     "output_type": "stream",
     "text": [
      "number of train files are: 90\n",
      "('train shape:', (90, 300, 300, 3))\n",
      "number of train files are: 26\n",
      "('train shape:', (26, 300, 300, 3))\n"
     ]
    }
   ],
   "source": [
    "def get_im_cv2(path, img_width, img_height):\n",
    "    img = cv2.imread(path)\n",
    "    resized = cv2.resize(img, (img_width, img_height))#, cv2.INTER_LINEAR)\n",
    "    return resized\n",
    "\n",
    "def load_data(path, data_type, img_width, img_height):\n",
    "    X, X_id, y = [], [], []\n",
    "    minpix = 2                                  #minimum number of pixels for crater to count\n",
    "    files = glob.glob('%s*.png'%path)\n",
    "    print \"number of %s files are: %d\"%(data_type,len(files))\n",
    "    for i,fl in enumerate(files):\n",
    "        flbase = os.path.basename(fl)\n",
    "        img = get_im_cv2(fl,img_width,img_height) / 255.\n",
    "        \n",
    "        #experimenting with bigger contrast\n",
    "        img[img > 0.] = 1. - img[img > 0.] \n",
    "        minn, maxx = np.min(img[img>0]), np.max(img[img>0])\n",
    "        low, hi = 0.1, 1\n",
    "        img[img>0] = low + (img[img>0] - minn)*(hi - low)/(maxx - minn)\n",
    "        X.append(img)\n",
    "        X_id.append(fl)\n",
    "        \n",
    "        csv = pd.read_csv('%s.csv'%fl.split('.png')[0])\n",
    "        csv.drop( np.where(csv[\"Diameter (pix)\"] < minpix)[0], inplace=True )\n",
    "        #target = mdm.make_mask(csv, img, binary=True, truncate=True, rings=True)\n",
    "        #target = mdm.make_circlering_mask(csv, img, binary=True, truncate=True)\n",
    "        target = mdm.make_mask(csv, img, binary=True, rings=True, ringwidth=1, truncate=True)\n",
    "        y.append(target)\n",
    "    return  X, y, X_id\n",
    "\n",
    "def read_and_normalize_data(path, img_width, img_height, data_flag):\n",
    "    if data_flag == 0:\n",
    "        data_type = 'train'\n",
    "    elif data_flag == 1:\n",
    "        data_type = 'test'\n",
    "    data, target, id = load_data(path, data_type, img_width, img_height)\n",
    "    data = np.array(data).astype('float32')     #convert to numpy, convert to float\n",
    "    print('%s shape:'%data_type, data.shape)\n",
    "    return data, target, id\n",
    "\n",
    "train_data, train_target, train_id = read_and_normalize_data('training_set/', 300, 300, 0)\n",
    "test_data, test_target, test_id = read_and_normalize_data('test_set/', 300, 300, 0)"
   ]
  },
  {
   "cell_type": "code",
   "execution_count": 66,
   "metadata": {
    "collapsed": true
   },
   "outputs": [],
   "source": [
    "#Saves image with no border - https://fengl.org/2014/07/09/matplotlib-savefig-without-borderframe/\n",
    "def save_image(data, cm, fn):\n",
    "   \n",
    "    sizes = np.shape(data)\n",
    "    height = float(sizes[0])\n",
    "    width = float(sizes[1])\n",
    "     \n",
    "    fig = plt.figure()\n",
    "    fig.set_size_inches(width/height, 1, forward=False)\n",
    "    ax = plt.Axes(fig, [0., 0., 1., 1.])\n",
    "    ax.set_axis_off()\n",
    "    fig.add_axes(ax)\n",
    " \n",
    "    ax.imshow(data, cmap=cm)\n",
    "    plt.savefig(fn, dpi = height) "
   ]
  },
  {
   "cell_type": "code",
   "execution_count": 71,
   "metadata": {},
   "outputs": [
    {
     "data": {
      "image/png": "[encoded data removed]",
      "text/plain": [
       "<matplotlib.figure.Figure at 0x1142af310>"
      ]
     },
     "metadata": {},
     "output_type": "display_data"
    }
   ],
   "source": [
    "i=10\n",
    "cmap = \"Greys_r\"\n",
    "filename = 'output_dir/circle_test.png'\n",
    "save_image(test_target[i], cmap, filename)"
   ]
  },
  {
   "cell_type": "code",
   "execution_count": 72,
   "metadata": {},
   "outputs": [
    {
     "data": {
      "text/plain": [
       "<matplotlib.image.AxesImage at 0x116536c10>"
      ]
     },
     "execution_count": 72,
     "metadata": {},
     "output_type": "execute_result"
    },
    {
     "data": {
      "image/png": "[encoded data removed]",
      "text/plain": [
       "<matplotlib.figure.Figure at 0x1108fb890>"
      ]
     },
     "metadata": {},
     "output_type": "display_data"
    }
   ],
   "source": [
    "#best\n",
    "#http://opencvpython.blogspot.ca/2012/06/contours-2-brotherhood.html\n",
    "#http://www.pyimagesearch.com/2014/07/21/detecting-circles-images-using-opencv-hough-circles/\n",
    "#https://stackoverflow.com/questions/32287032/circular-hough-transform-misses-circles\n",
    "#http://layer0.authentise.com/detecting-circular-shapes-using-contours.html\n",
    "img = cv2.imread('output_dir/circle_test.png',0)\n",
    "cimg2 = cv2.cvtColor(img, cv2.COLOR_GRAY2BGR)\n",
    "image, contours, hierarchy = cv2.findContours(img, cv2.RETR_LIST, cv2.CHAIN_APPROX_NONE)\n",
    "for cnt in contours:\n",
    "    (x,y),radius = cv2.minEnclosingCircle(cnt)\n",
    "    center = (int(x),int(y))\n",
    "    radius = int(radius)\n",
    "    cv2.circle(cimg2,center,radius,(0,255,0),2)\n",
    "plt.imshow(cimg2, origin='upper', cmap=\"Greys_r\")"
   ]
  },
  {
   "cell_type": "code",
   "execution_count": 16,
   "metadata": {},
   "outputs": [
    {
     "data": {
      "text/plain": [
       "<matplotlib.image.AxesImage at 0x108bc8290>"
      ]
     },
     "execution_count": 16,
     "metadata": {},
     "output_type": "execute_result"
    },
    {
     "data": {
      "image/png": "[encoded data removed]",
      "text/plain": [
       "<matplotlib.figure.Figure at 0x110159450>"
      ]
     },
     "metadata": {},
     "output_type": "display_data"
    }
   ],
   "source": [
    "#http://www.pyimagesearch.com/2014/07/21/detecting-circles-images-using-opencv-hough-circles/\n",
    "#https://stackoverflow.com/questions/32287032/circular-hough-transform-misses-circles\n",
    "\n",
    "img = cv2.imread('output_dir/circle_test.png',0)\n",
    "#img = cv2.medianBlur(img,5)\n",
    "cimg = cv2.cvtColor(img,cv2.COLOR_GRAY2BGR)\n",
    "\n",
    "radii = np.arange(1,200,5)\n",
    "\n",
    "#Hough circles\n",
    "for i in range(len(radii)-1):\n",
    "    circles = cv2.HoughCircles(img,cv2.HOUGH_GRADIENT,1,5,param1=25,param2=30,minRadius=radii[i],maxRadius=radii[i+1])\n",
    "    if circles is None: # Skip if no circles are detected - Change here\n",
    "        continue\n",
    "    \n",
    "    circles = np.uint16(np.around(circles))\n",
    "    for i in circles[0,:]:\n",
    "        # draw the outer circle\n",
    "        cv2.circle(cimg,(i[0],i[1]),i[2],(0,255,0),thickness=3)\n",
    "        # draw the center of the circle\n",
    "        cv2.circle(cimg,(i[0],i[1]),2,(0,0,255),thickness=3)\n",
    "        \n",
    "plt.imshow(cimg, origin='upper', cmap=\"Greys_r\")"
   ]
  },
  {
   "cell_type": "code",
   "execution_count": 52,
   "metadata": {
    "collapsed": true
   },
   "outputs": [],
   "source": [
    "#contours\n",
    "#https://stackoverflow.com/questions/25504964/opencv-python-valueerror-too-many-values-to-unpack\n",
    "ret,thresh = cv2.threshold(img,127,255,0)\n",
    "image, contours, hierarchy = cv2.findContours(thresh,cv2.RETR_LIST,cv2.CHAIN_APPROX_NONE)\n",
    "image = cv2.drawContours(image, contours, -1, (0,255,0), 3)"
   ]
  },
  {
   "cell_type": "code",
   "execution_count": 38,
   "metadata": {},
   "outputs": [
    {
     "data": {
      "text/plain": [
       "<matplotlib.image.AxesImage at 0x11708df90>"
      ]
     },
     "execution_count": 38,
     "metadata": {},
     "output_type": "execute_result"
    },
    {
     "data": {
      "image/png": "[encoded data removed]",
      "text/plain": [
       "<matplotlib.figure.Figure at 0x108dc3190>"
      ]
     },
     "metadata": {},
     "output_type": "display_data"
    }
   ],
   "source": [
    "cimg2 = cv2.cvtColor(img, cv2.COLOR_GRAY2BGR)\n",
    "image, contours, hierarchy = cv2.findContours(img, cv2.RETR_LIST, cv2.CHAIN_APPROX_NONE)\n",
    "cimg2 = cv2.drawContours(cimg2, contours, -1, color=(0,255,0), thickness=2)\n",
    "plt.imshow(cimg2, origin='upper', cmap=\"Greys_r\")"
   ]
  },
  {
   "cell_type": "code",
   "execution_count": 28,
   "metadata": {},
   "outputs": [
    {
     "data": {
      "text/plain": [
       "<matplotlib.image.AxesImage at 0x11540c510>"
      ]
     },
     "execution_count": 28,
     "metadata": {},
     "output_type": "execute_result"
    },
    {
     "data": {
      "image/png": "[encoded data removed]",
      "text/plain": [
       "<matplotlib.figure.Figure at 0x11452e450>"
      ]
     },
     "metadata": {},
     "output_type": "display_data"
    }
   ],
   "source": [
    "#\n",
    "img = cv2.imread('output_dir/circle_test.png',0)\n",
    "_, contours, hierarchy = cv2.findContours(img, cv2.RETR_TREE, cv2.CHAIN_APPROX_NONE)\n",
    "contour_list = []\n",
    "for contour in contours:\n",
    "    approx = cv2.approxPolyDP(contour,0.1*cv2.arcLength(contour,True),True)\n",
    "    area = cv2.contourArea(contour)\n",
    "    if ((len(approx) > 8) & (len(approx) < 23) & (area > 30) ):\n",
    "        contour_list.append(contour)\n",
    "\n",
    "circles=cv2.drawContours(img, contour_list,  -1, (0,255,0), thickness=2)\n",
    "plt.imshow(circles, origin='upper', cmap=\"Greys_r\")"
   ]
  },
  {
   "cell_type": "code",
   "execution_count": 5,
   "metadata": {},
   "outputs": [
    {
     "ename": "NameError",
     "evalue": "name 'cimg' is not defined",
     "output_type": "error",
     "traceback": [
      "\u001b[0;31m---------------------------------------------------------------------------\u001b[0m",
      "\u001b[0;31mNameError\u001b[0m                                 Traceback (most recent call last)",
      "\u001b[0;32m<ipython-input-5-15ccf1fb0a23>\u001b[0m in \u001b[0;36m<module>\u001b[0;34m()\u001b[0m\n\u001b[1;32m      1\u001b[0m \u001b[0mf\u001b[0m\u001b[0;34m,\u001b[0m \u001b[0;34m(\u001b[0m\u001b[0max1\u001b[0m\u001b[0;34m,\u001b[0m \u001b[0max2\u001b[0m\u001b[0;34m)\u001b[0m \u001b[0;34m=\u001b[0m \u001b[0mplt\u001b[0m\u001b[0;34m.\u001b[0m\u001b[0msubplots\u001b[0m\u001b[0;34m(\u001b[0m\u001b[0;36m1\u001b[0m\u001b[0;34m,\u001b[0m\u001b[0;36m2\u001b[0m\u001b[0;34m,\u001b[0m \u001b[0mfigsize\u001b[0m\u001b[0;34m=\u001b[0m\u001b[0;34m[\u001b[0m\u001b[0;36m12\u001b[0m\u001b[0;34m,\u001b[0m \u001b[0;36m8\u001b[0m\u001b[0;34m]\u001b[0m\u001b[0;34m)\u001b[0m\u001b[0;34m\u001b[0m\u001b[0m\n\u001b[0;32m----> 2\u001b[0;31m \u001b[0max1\u001b[0m\u001b[0;34m.\u001b[0m\u001b[0mimshow\u001b[0m\u001b[0;34m(\u001b[0m\u001b[0mcimg\u001b[0m\u001b[0;34m,\u001b[0m \u001b[0morigin\u001b[0m\u001b[0;34m=\u001b[0m\u001b[0;34m'upper'\u001b[0m\u001b[0;34m,\u001b[0m \u001b[0mcmap\u001b[0m\u001b[0;34m=\u001b[0m\u001b[0;34m\"Greys_r\"\u001b[0m\u001b[0;34m)\u001b[0m\u001b[0;34m\u001b[0m\u001b[0m\n\u001b[0m\u001b[1;32m      3\u001b[0m \u001b[0max2\u001b[0m\u001b[0;34m.\u001b[0m\u001b[0mimshow\u001b[0m\u001b[0;34m(\u001b[0m\u001b[0medge_detected_image\u001b[0m\u001b[0;34m,\u001b[0m \u001b[0morigin\u001b[0m\u001b[0;34m=\u001b[0m\u001b[0;34m'upper'\u001b[0m\u001b[0;34m,\u001b[0m \u001b[0mcmap\u001b[0m\u001b[0;34m=\u001b[0m\u001b[0;34m\"Greys_r\"\u001b[0m\u001b[0;34m)\u001b[0m\u001b[0;34m\u001b[0m\u001b[0m\n",
      "\u001b[0;31mNameError\u001b[0m: name 'cimg' is not defined"
     ]
    },
    {
     "data": {
      "image/png": "[encoded data removed]",
      "text/plain": [
       "<matplotlib.figure.Figure at 0x10ae9d6d0>"
      ]
     },
     "metadata": {},
     "output_type": "display_data"
    }
   ],
   "source": [
    "f, (ax1, ax2) = plt.subplots(1,2, figsize=[12, 8])\n",
    "ax1.imshow(cimg, origin='upper', cmap=\"Greys_r\")\n",
    "ax2.imshow(edge_detected_image, origin='upper', cmap=\"Greys_r\")"
   ]
  },
  {
   "cell_type": "code",
   "execution_count": 90,
   "metadata": {},
   "outputs": [
    {
     "ename": "AttributeError",
     "evalue": "'module' object has no attribute 'CV_CHAIN_APPROX_NONE'",
     "output_type": "error",
     "traceback": [
      "\u001b[0;31m---------------------------------------------------------------------------\u001b[0m",
      "\u001b[0;31mAttributeError\u001b[0m                            Traceback (most recent call last)",
      "\u001b[0;32m<ipython-input-90-7b2275d5dba0>\u001b[0m in \u001b[0;36m<module>\u001b[0;34m()\u001b[0m\n\u001b[1;32m      2\u001b[0m \u001b[0;34m\u001b[0m\u001b[0m\n\u001b[1;32m      3\u001b[0m \u001b[0;31m# Find contours\u001b[0m\u001b[0;34m\u001b[0m\u001b[0;34m\u001b[0m\u001b[0m\n\u001b[0;32m----> 4\u001b[0;31m \u001b[0mcontours\u001b[0m\u001b[0;34m,\u001b[0m\u001b[0m_\u001b[0m \u001b[0;34m=\u001b[0m \u001b[0mcv2\u001b[0m\u001b[0;34m.\u001b[0m\u001b[0mfindContours\u001b[0m\u001b[0;34m(\u001b[0m\u001b[0;36m255\u001b[0m \u001b[0;34m-\u001b[0m \u001b[0mimg\u001b[0m\u001b[0;34m,\u001b[0m \u001b[0mcv2\u001b[0m\u001b[0;34m.\u001b[0m\u001b[0mRETR_LIST\u001b[0m\u001b[0;34m,\u001b[0m \u001b[0mcv2\u001b[0m\u001b[0;34m.\u001b[0m\u001b[0mCV_CHAIN_APPROX_NONE\u001b[0m\u001b[0;34m)\u001b[0m\u001b[0;34m\u001b[0m\u001b[0m\n\u001b[0m\u001b[1;32m      5\u001b[0m \u001b[0;34m\u001b[0m\u001b[0m\n\u001b[1;32m      6\u001b[0m \u001b[0;31m# Draw all detected contours on image in green with a thickness of 1 pixel\u001b[0m\u001b[0;34m\u001b[0m\u001b[0;34m\u001b[0m\u001b[0m\n",
      "\u001b[0;31mAttributeError\u001b[0m: 'module' object has no attribute 'CV_CHAIN_APPROX_NONE'"
     ]
    }
   ],
   "source": [
    "cimg2 = cv2.cvtColor(img, cv2.COLOR_GRAY2BGR)\n",
    "\n",
    "# Find contours\n",
    "contours,_ = cv2.findContours(255 - img, cv2.RETR_LIST, cv.CV_CHAIN_APPROX_NONE)\n",
    "\n",
    "# Draw all detected contours on image in green with a thickness of 1 pixel\n",
    "cv2.drawContours(cimg2, contours, -1, color=(0,255,0), thickness=1)"
   ]
  },
  {
   "cell_type": "code",
   "execution_count": null,
   "metadata": {
    "collapsed": true
   },
   "outputs": [],
   "source": []
  }
 ],
 "metadata": {
  "kernelspec": {
   "display_name": "Python 2",
   "language": "python",
   "name": "python2"
  },
  "language_info": {
   "codemirror_mode": {
    "name": "ipython",
    "version": 2
   },
   "file_extension": ".py",
   "mimetype": "text/x-python",
   "name": "python",
   "nbconvert_exporter": "python",
   "pygments_lexer": "ipython2",
   "version": "2.7.13"
  }
 },
 "nbformat": 4,
 "nbformat_minor": 2
}
