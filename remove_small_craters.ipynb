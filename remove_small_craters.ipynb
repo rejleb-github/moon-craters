{
 "cells": [
  {
   "cell_type": "code",
   "execution_count": 2,
   "metadata": {
    "collapsed": false
   },
   "outputs": [],
   "source": [
    "import glob\n",
    "import os\n",
    "import numpy as np\n",
    "import pandas as pd\n",
    "\n",
    "minpix = 2.\n",
    "\n",
    "path = \"./test_set/\"\n",
    "all_files = glob.glob(os.path.join(path, \"*.csv\")) #make list of paths\n",
    "\n",
    "for file in all_files:\n",
    "    # Getting the file name without extension\n",
    "    file_name = os.path.splitext(os.path.basename(file))[0]\n",
    "    # Reading the file content to create a DataFrame\n",
    "    dfn = pd.read_csv(file)\n",
    "    # Drop craters below certain pixel size\n",
    "    dfn.drop( np.where(dfn[\"Diameter (pix)\"] < minpix)[0], inplace=True )\n"
   ]
  }
 ],
 "metadata": {
  "anaconda-cloud": {},
  "kernelspec": {
   "display_name": "Python 2",
   "language": "python",
   "name": "python2"
  },
  "language_info": {
   "codemirror_mode": {
    "name": "ipython",
    "version": 2
   },
   "file_extension": ".py",
   "mimetype": "text/x-python",
   "name": "python",
   "nbconvert_exporter": "python",
   "pygments_lexer": "ipython2",
   "version": "2.7.13"
  }
 },
 "nbformat": 4,
 "nbformat_minor": 1
}
